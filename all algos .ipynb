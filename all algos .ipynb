{
 "cells": [
  {
   "cell_type": "code",
   "execution_count": 28,
   "id": "3da72e38",
   "metadata": {},
   "outputs": [],
   "source": [
    "# importing all the package what we want for the project \n",
    "import numpy as np #Numpy arrays are very fast and can perform large computations in a very short time. \n",
    "import pandas as pd #it help us to load the data frame in 2d formate and having different types of coloums and\n",
    "import matplotlib.pyplot as plt #This library is used to draw visualizations.Sklearn this module containing many libraries\n",
    "#and many implementing functions\n",
    "import seaborn as sb\n",
    "\n",
    "# Machine learning\n",
    "from sklearn.svm import SVC\n",
    "from sklearn.metrics import accuracy_score\n",
    "\n",
    "#plt.style.use('seaborn-darkgrid')\n"
   ]
  },
  {
   "cell_type": "code",
   "execution_count": 29,
   "id": "0bf9b5bb",
   "metadata": {},
   "outputs": [
    {
     "data": {
      "text/html": [
       "<div>\n",
       "<style scoped>\n",
       "    .dataframe tbody tr th:only-of-type {\n",
       "        vertical-align: middle;\n",
       "    }\n",
       "\n",
       "    .dataframe tbody tr th {\n",
       "        vertical-align: top;\n",
       "    }\n",
       "\n",
       "    .dataframe thead th {\n",
       "        text-align: right;\n",
       "    }\n",
       "</style>\n",
       "<table border=\"1\" class=\"dataframe\">\n",
       "  <thead>\n",
       "    <tr style=\"text-align: right;\">\n",
       "      <th></th>\n",
       "      <th>Date</th>\n",
       "      <th>Open</th>\n",
       "      <th>High</th>\n",
       "      <th>Low</th>\n",
       "      <th>Close</th>\n",
       "      <th>Adj Close</th>\n",
       "      <th>Volume</th>\n",
       "    </tr>\n",
       "  </thead>\n",
       "  <tbody>\n",
       "    <tr>\n",
       "      <th>0</th>\n",
       "      <td>2002-02-20</td>\n",
       "      <td>18.268200</td>\n",
       "      <td>19.691099</td>\n",
       "      <td>18.245199</td>\n",
       "      <td>19.002600</td>\n",
       "      <td>17.911358</td>\n",
       "      <td>2351049.0</td>\n",
       "    </tr>\n",
       "    <tr>\n",
       "      <th>1</th>\n",
       "      <td>2002-02-21</td>\n",
       "      <td>19.507500</td>\n",
       "      <td>19.943501</td>\n",
       "      <td>19.278000</td>\n",
       "      <td>19.484501</td>\n",
       "      <td>18.365585</td>\n",
       "      <td>1240948.0</td>\n",
       "    </tr>\n",
       "    <tr>\n",
       "      <th>2</th>\n",
       "      <td>2002-02-22</td>\n",
       "      <td>19.254999</td>\n",
       "      <td>20.104200</td>\n",
       "      <td>19.163200</td>\n",
       "      <td>19.943501</td>\n",
       "      <td>18.798227</td>\n",
       "      <td>908020.0</td>\n",
       "    </tr>\n",
       "    <tr>\n",
       "      <th>3</th>\n",
       "      <td>2002-02-25</td>\n",
       "      <td>19.874701</td>\n",
       "      <td>19.966499</td>\n",
       "      <td>19.553400</td>\n",
       "      <td>19.576300</td>\n",
       "      <td>18.452114</td>\n",
       "      <td>395880.0</td>\n",
       "    </tr>\n",
       "    <tr>\n",
       "      <th>4</th>\n",
       "      <td>2002-02-26</td>\n",
       "      <td>19.737000</td>\n",
       "      <td>20.287800</td>\n",
       "      <td>19.622200</td>\n",
       "      <td>19.989401</td>\n",
       "      <td>18.841490</td>\n",
       "      <td>595730.0</td>\n",
       "    </tr>\n",
       "  </tbody>\n",
       "</table>\n",
       "</div>"
      ],
      "text/plain": [
       "         Date       Open       High        Low      Close  Adj Close  \\\n",
       "0  2002-02-20  18.268200  19.691099  18.245199  19.002600  17.911358   \n",
       "1  2002-02-21  19.507500  19.943501  19.278000  19.484501  18.365585   \n",
       "2  2002-02-22  19.254999  20.104200  19.163200  19.943501  18.798227   \n",
       "3  2002-02-25  19.874701  19.966499  19.553400  19.576300  18.452114   \n",
       "4  2002-02-26  19.737000  20.287800  19.622200  19.989401  18.841490   \n",
       "\n",
       "      Volume  \n",
       "0  2351049.0  \n",
       "1  1240948.0  \n",
       "2   908020.0  \n",
       "3   395880.0  \n",
       "4   595730.0  "
      ]
     },
     "execution_count": 29,
     "metadata": {},
     "output_type": "execute_result"
    }
   ],
   "source": [
    "df = pd.read_csv('modified_airtel.csv')\n",
    "df.head()#importing the data set and printing it"
   ]
  },
  {
   "cell_type": "code",
   "execution_count": 30,
   "id": "c3c63163",
   "metadata": {},
   "outputs": [
    {
     "data": {
      "text/plain": [
       "(4703, 7)"
      ]
     },
     "execution_count": 30,
     "metadata": {},
     "output_type": "execute_result"
    }
   ],
   "source": [
    "df.shape#what is the size of the rows and coloumns"
   ]
  },
  {
   "cell_type": "code",
   "execution_count": 31,
   "id": "3c938ac6",
   "metadata": {},
   "outputs": [
    {
     "data": {
      "text/html": [
       "<div>\n",
       "<style scoped>\n",
       "    .dataframe tbody tr th:only-of-type {\n",
       "        vertical-align: middle;\n",
       "    }\n",
       "\n",
       "    .dataframe tbody tr th {\n",
       "        vertical-align: top;\n",
       "    }\n",
       "\n",
       "    .dataframe thead th {\n",
       "        text-align: right;\n",
       "    }\n",
       "</style>\n",
       "<table border=\"1\" class=\"dataframe\">\n",
       "  <thead>\n",
       "    <tr style=\"text-align: right;\">\n",
       "      <th></th>\n",
       "      <th>Open</th>\n",
       "      <th>High</th>\n",
       "      <th>Low</th>\n",
       "      <th>Close</th>\n",
       "      <th>Adj Close</th>\n",
       "      <th>Volume</th>\n",
       "    </tr>\n",
       "  </thead>\n",
       "  <tbody>\n",
       "    <tr>\n",
       "      <th>count</th>\n",
       "      <td>4703.000000</td>\n",
       "      <td>4703.000000</td>\n",
       "      <td>4703.000000</td>\n",
       "      <td>4703.000000</td>\n",
       "      <td>4703.000000</td>\n",
       "      <td>4.703000e+03</td>\n",
       "    </tr>\n",
       "    <tr>\n",
       "      <th>mean</th>\n",
       "      <td>278.276423</td>\n",
       "      <td>282.745707</td>\n",
       "      <td>273.027857</td>\n",
       "      <td>277.739407</td>\n",
       "      <td>267.377992</td>\n",
       "      <td>1.165717e+06</td>\n",
       "    </tr>\n",
       "    <tr>\n",
       "      <th>std</th>\n",
       "      <td>131.282766</td>\n",
       "      <td>133.326548</td>\n",
       "      <td>128.827806</td>\n",
       "      <td>130.974230</td>\n",
       "      <td>128.207622</td>\n",
       "      <td>7.753539e+06</td>\n",
       "    </tr>\n",
       "    <tr>\n",
       "      <th>min</th>\n",
       "      <td>9.753750</td>\n",
       "      <td>9.914400</td>\n",
       "      <td>9.478350</td>\n",
       "      <td>9.524250</td>\n",
       "      <td>8.977311</td>\n",
       "      <td>0.000000e+00</td>\n",
       "    </tr>\n",
       "    <tr>\n",
       "      <th>25%</th>\n",
       "      <td>233.630997</td>\n",
       "      <td>236.155495</td>\n",
       "      <td>227.595001</td>\n",
       "      <td>232.299996</td>\n",
       "      <td>221.842491</td>\n",
       "      <td>2.164560e+05</td>\n",
       "    </tr>\n",
       "    <tr>\n",
       "      <th>50%</th>\n",
       "      <td>306.335999</td>\n",
       "      <td>311.018005</td>\n",
       "      <td>300.737000</td>\n",
       "      <td>305.556000</td>\n",
       "      <td>292.955963</td>\n",
       "      <td>4.235300e+05</td>\n",
       "    </tr>\n",
       "    <tr>\n",
       "      <th>75%</th>\n",
       "      <td>357.480499</td>\n",
       "      <td>363.226013</td>\n",
       "      <td>350.400512</td>\n",
       "      <td>356.742493</td>\n",
       "      <td>344.568360</td>\n",
       "      <td>9.809560e+05</td>\n",
       "    </tr>\n",
       "    <tr>\n",
       "      <th>max</th>\n",
       "      <td>604.000000</td>\n",
       "      <td>611.700012</td>\n",
       "      <td>588.650024</td>\n",
       "      <td>599.150024</td>\n",
       "      <td>597.005798</td>\n",
       "      <td>3.044824e+08</td>\n",
       "    </tr>\n",
       "  </tbody>\n",
       "</table>\n",
       "</div>"
      ],
      "text/plain": [
       "              Open         High          Low        Close    Adj Close  \\\n",
       "count  4703.000000  4703.000000  4703.000000  4703.000000  4703.000000   \n",
       "mean    278.276423   282.745707   273.027857   277.739407   267.377992   \n",
       "std     131.282766   133.326548   128.827806   130.974230   128.207622   \n",
       "min       9.753750     9.914400     9.478350     9.524250     8.977311   \n",
       "25%     233.630997   236.155495   227.595001   232.299996   221.842491   \n",
       "50%     306.335999   311.018005   300.737000   305.556000   292.955963   \n",
       "75%     357.480499   363.226013   350.400512   356.742493   344.568360   \n",
       "max     604.000000   611.700012   588.650024   599.150024   597.005798   \n",
       "\n",
       "             Volume  \n",
       "count  4.703000e+03  \n",
       "mean   1.165717e+06  \n",
       "std    7.753539e+06  \n",
       "min    0.000000e+00  \n",
       "25%    2.164560e+05  \n",
       "50%    4.235300e+05  \n",
       "75%    9.809560e+05  \n",
       "max    3.044824e+08  "
      ]
     },
     "execution_count": 31,
     "metadata": {},
     "output_type": "execute_result"
    }
   ],
   "source": [
    "df.describe()"
   ]
  },
  {
   "cell_type": "code",
   "execution_count": 32,
   "id": "c3cfa6b7",
   "metadata": {},
   "outputs": [
    {
     "name": "stdout",
     "output_type": "stream",
     "text": [
      "<class 'pandas.core.frame.DataFrame'>\n",
      "RangeIndex: 4703 entries, 0 to 4702\n",
      "Data columns (total 7 columns):\n",
      " #   Column     Non-Null Count  Dtype  \n",
      "---  ------     --------------  -----  \n",
      " 0   Date       4703 non-null   object \n",
      " 1   Open       4703 non-null   float64\n",
      " 2   High       4703 non-null   float64\n",
      " 3   Low        4703 non-null   float64\n",
      " 4   Close      4703 non-null   float64\n",
      " 5   Adj Close  4703 non-null   float64\n",
      " 6   Volume     4703 non-null   float64\n",
      "dtypes: float64(6), object(1)\n",
      "memory usage: 257.3+ KB\n"
     ]
    }
   ],
   "source": [
    "df.info()# gives the information about how may columns are there and there names\n"
   ]
  },
  {
   "cell_type": "code",
   "execution_count": 33,
   "id": "bab72048",
   "metadata": {},
   "outputs": [
    {
     "name": "stdout",
     "output_type": "stream",
     "text": [
      "Date          object\n",
      "Open         float64\n",
      "High         float64\n",
      "Low          float64\n",
      "Close        float64\n",
      "Adj Close    float64\n",
      "Volume       float64\n",
      "dtype: object\n"
     ]
    }
   ],
   "source": [
    "data_types = df.dtypes\n",
    "print(data_types)"
   ]
  },
  {
   "cell_type": "code",
   "execution_count": 34,
   "id": "38db10c1",
   "metadata": {},
   "outputs": [
    {
     "name": "stdout",
     "output_type": "stream",
     "text": [
      "            Date        Open        High         Low       Close   Adj Close  \\\n",
      "0     2002-02-20   18.268200   19.691099   18.245199   19.002600   17.911358   \n",
      "1     2002-02-21   19.507500   19.943501   19.278000   19.484501   18.365585   \n",
      "2     2002-02-22   19.254999   20.104200   19.163200   19.943501   18.798227   \n",
      "3     2002-02-25   19.874701   19.966499   19.553400   19.576300   18.452114   \n",
      "4     2002-02-26   19.737000   20.287800   19.622200   19.989401   18.841490   \n",
      "...          ...         ...         ...         ...         ...         ...   \n",
      "4698  2020-12-28  520.000000  526.950012  516.900024  521.549988  521.549988   \n",
      "4699  2020-12-29  521.950012  525.000000  515.099976  520.250000  520.250000   \n",
      "4700  2020-12-30  523.000000  523.000000  513.349976  515.950012  515.950012   \n",
      "4701  2020-12-31  515.950012  518.450012  506.600006  509.299988  509.299988   \n",
      "4702  2021-01-01  510.600006  516.250000  508.250000  515.099976  515.099976   \n",
      "\n",
      "         Volume  Target  \n",
      "0     2351049.0       1  \n",
      "1     1240948.0       1  \n",
      "2      908020.0       0  \n",
      "3      395880.0       1  \n",
      "4      595730.0       1  \n",
      "...         ...     ...  \n",
      "4698   354822.0       0  \n",
      "4699   356338.0       0  \n",
      "4700   453614.0       0  \n",
      "4701   367218.0       1  \n",
      "4702   263094.0       0  \n",
      "\n",
      "[4703 rows x 8 columns]\n"
     ]
    }
   ],
   "source": [
    "import pandas as pd\n",
    "import numpy as np\n",
    "\n",
    "# Assuming df is your DataFrame\n",
    "# Add a new column 'Target' based on your condition\n",
    "df['Target'] = np.where(df['Close'].shift(-1) > df['Close'], 1, 0)\n",
    "\n",
    "# Display the updated DataFrame\n",
    "print(df)\n"
   ]
  },
  {
   "cell_type": "code",
   "execution_count": 35,
   "id": "4284d6d1",
   "metadata": {},
   "outputs": [
    {
     "data": {
      "text/plain": [
       "Text(0, 0.5, 'price in rupees')"
      ]
     },
     "execution_count": 35,
     "metadata": {},
     "output_type": "execute_result"
    },
    {
     "data": {
      "image/png": "[encoded data removed]",
      "text/plain": [
       "<Figure size 1080x360 with 1 Axes>"
      ]
     },
     "metadata": {
      "needs_background": "light"
     },
     "output_type": "display_data"
    }
   ],
   "source": [
    "plt.figure(figsize=(15,5))\n",
    "plt.plot(df['Close'])#ploting the data what we want\n",
    "plt.title('airtel close price.',fontsize=15)#it gives the title to the graph\n",
    "plt.ylabel('price in rupees',fontsize=15)"
   ]
  },
  {
   "cell_type": "code",
   "execution_count": 36,
   "id": "a1831442",
   "metadata": {
    "scrolled": true
   },
   "outputs": [
    {
     "data": {
      "text/plain": [
       "Text(0, 0.5, 'price in rupees')"
      ]
     },
     "execution_count": 36,
     "metadata": {},
     "output_type": "execute_result"
    },
    {
     "data": {
      "image/png": "[encoded data removed]",
      "text/plain": [
       "<Figure size 1080x360 with 1 Axes>"
      ]
     },
     "metadata": {
      "needs_background": "light"
     },
     "output_type": "display_data"
    }
   ],
   "source": [
    "plt.figure(figsize=(15,5))\n",
    "plt.plot(df['High'])#ploting the data what we want\n",
    "plt.title('airtel high price.',fontsize=15)#it gives the title to the graph\n",
    "plt.ylabel('price in rupees',fontsize=15)"
   ]
  },
  {
   "cell_type": "code",
   "execution_count": 37,
   "id": "25b04ce6",
   "metadata": {},
   "outputs": [
    {
     "data": {
      "text/plain": [
       "(103, 8)"
      ]
     },
     "execution_count": 37,
     "metadata": {},
     "output_type": "execute_result"
    }
   ],
   "source": [
    "df[df['Close'] == df['Adj Close']].shape"
   ]
  },
  {
   "cell_type": "code",
   "execution_count": 38,
   "id": "67cfe4cb",
   "metadata": {},
   "outputs": [
    {
     "data": {
      "text/plain": [
       "Date         0\n",
       "Open         0\n",
       "High         0\n",
       "Low          0\n",
       "Close        0\n",
       "Adj Close    0\n",
       "Volume       0\n",
       "Target       0\n",
       "dtype: int64"
      ]
     },
     "execution_count": 38,
     "metadata": {},
     "output_type": "execute_result"
    }
   ],
   "source": [
    "df.isnull().sum()\n",
    "#checking any null values are present in the data set "
   ]
  },
  {
   "cell_type": "code",
   "execution_count": 39,
   "id": "b5fa75a4",
   "metadata": {},
   "outputs": [
    {
     "data": {
      "text/html": [
       "<div>\n",
       "<style scoped>\n",
       "    .dataframe tbody tr th:only-of-type {\n",
       "        vertical-align: middle;\n",
       "    }\n",
       "\n",
       "    .dataframe tbody tr th {\n",
       "        vertical-align: top;\n",
       "    }\n",
       "\n",
       "    .dataframe thead th {\n",
       "        text-align: right;\n",
       "    }\n",
       "</style>\n",
       "<table border=\"1\" class=\"dataframe\">\n",
       "  <thead>\n",
       "    <tr style=\"text-align: right;\">\n",
       "      <th></th>\n",
       "      <th>Open</th>\n",
       "      <th>High</th>\n",
       "      <th>Low</th>\n",
       "      <th>Close</th>\n",
       "      <th>Adj Close</th>\n",
       "      <th>Volume</th>\n",
       "      <th>Target</th>\n",
       "    </tr>\n",
       "    <tr>\n",
       "      <th>Date</th>\n",
       "      <th></th>\n",
       "      <th></th>\n",
       "      <th></th>\n",
       "      <th></th>\n",
       "      <th></th>\n",
       "      <th></th>\n",
       "      <th></th>\n",
       "    </tr>\n",
       "  </thead>\n",
       "  <tbody>\n",
       "    <tr>\n",
       "      <th>2002-02-20</th>\n",
       "      <td>18.268200</td>\n",
       "      <td>19.691099</td>\n",
       "      <td>18.245199</td>\n",
       "      <td>19.002600</td>\n",
       "      <td>17.911358</td>\n",
       "      <td>2351049.0</td>\n",
       "      <td>1</td>\n",
       "    </tr>\n",
       "    <tr>\n",
       "      <th>2002-02-21</th>\n",
       "      <td>19.507500</td>\n",
       "      <td>19.943501</td>\n",
       "      <td>19.278000</td>\n",
       "      <td>19.484501</td>\n",
       "      <td>18.365585</td>\n",
       "      <td>1240948.0</td>\n",
       "      <td>1</td>\n",
       "    </tr>\n",
       "    <tr>\n",
       "      <th>2002-02-22</th>\n",
       "      <td>19.254999</td>\n",
       "      <td>20.104200</td>\n",
       "      <td>19.163200</td>\n",
       "      <td>19.943501</td>\n",
       "      <td>18.798227</td>\n",
       "      <td>908020.0</td>\n",
       "      <td>0</td>\n",
       "    </tr>\n",
       "    <tr>\n",
       "      <th>2002-02-25</th>\n",
       "      <td>19.874701</td>\n",
       "      <td>19.966499</td>\n",
       "      <td>19.553400</td>\n",
       "      <td>19.576300</td>\n",
       "      <td>18.452114</td>\n",
       "      <td>395880.0</td>\n",
       "      <td>1</td>\n",
       "    </tr>\n",
       "    <tr>\n",
       "      <th>2002-02-26</th>\n",
       "      <td>19.737000</td>\n",
       "      <td>20.287800</td>\n",
       "      <td>19.622200</td>\n",
       "      <td>19.989401</td>\n",
       "      <td>18.841490</td>\n",
       "      <td>595730.0</td>\n",
       "      <td>1</td>\n",
       "    </tr>\n",
       "    <tr>\n",
       "      <th>...</th>\n",
       "      <td>...</td>\n",
       "      <td>...</td>\n",
       "      <td>...</td>\n",
       "      <td>...</td>\n",
       "      <td>...</td>\n",
       "      <td>...</td>\n",
       "      <td>...</td>\n",
       "    </tr>\n",
       "    <tr>\n",
       "      <th>2020-12-28</th>\n",
       "      <td>520.000000</td>\n",
       "      <td>526.950012</td>\n",
       "      <td>516.900024</td>\n",
       "      <td>521.549988</td>\n",
       "      <td>521.549988</td>\n",
       "      <td>354822.0</td>\n",
       "      <td>0</td>\n",
       "    </tr>\n",
       "    <tr>\n",
       "      <th>2020-12-29</th>\n",
       "      <td>521.950012</td>\n",
       "      <td>525.000000</td>\n",
       "      <td>515.099976</td>\n",
       "      <td>520.250000</td>\n",
       "      <td>520.250000</td>\n",
       "      <td>356338.0</td>\n",
       "      <td>0</td>\n",
       "    </tr>\n",
       "    <tr>\n",
       "      <th>2020-12-30</th>\n",
       "      <td>523.000000</td>\n",
       "      <td>523.000000</td>\n",
       "      <td>513.349976</td>\n",
       "      <td>515.950012</td>\n",
       "      <td>515.950012</td>\n",
       "      <td>453614.0</td>\n",
       "      <td>0</td>\n",
       "    </tr>\n",
       "    <tr>\n",
       "      <th>2020-12-31</th>\n",
       "      <td>515.950012</td>\n",
       "      <td>518.450012</td>\n",
       "      <td>506.600006</td>\n",
       "      <td>509.299988</td>\n",
       "      <td>509.299988</td>\n",
       "      <td>367218.0</td>\n",
       "      <td>1</td>\n",
       "    </tr>\n",
       "    <tr>\n",
       "      <th>2021-01-01</th>\n",
       "      <td>510.600006</td>\n",
       "      <td>516.250000</td>\n",
       "      <td>508.250000</td>\n",
       "      <td>515.099976</td>\n",
       "      <td>515.099976</td>\n",
       "      <td>263094.0</td>\n",
       "      <td>0</td>\n",
       "    </tr>\n",
       "  </tbody>\n",
       "</table>\n",
       "<p>4703 rows × 7 columns</p>\n",
       "</div>"
      ],
      "text/plain": [
       "                  Open        High         Low       Close   Adj Close  \\\n",
       "Date                                                                     \n",
       "2002-02-20   18.268200   19.691099   18.245199   19.002600   17.911358   \n",
       "2002-02-21   19.507500   19.943501   19.278000   19.484501   18.365585   \n",
       "2002-02-22   19.254999   20.104200   19.163200   19.943501   18.798227   \n",
       "2002-02-25   19.874701   19.966499   19.553400   19.576300   18.452114   \n",
       "2002-02-26   19.737000   20.287800   19.622200   19.989401   18.841490   \n",
       "...                ...         ...         ...         ...         ...   \n",
       "2020-12-28  520.000000  526.950012  516.900024  521.549988  521.549988   \n",
       "2020-12-29  521.950012  525.000000  515.099976  520.250000  520.250000   \n",
       "2020-12-30  523.000000  523.000000  513.349976  515.950012  515.950012   \n",
       "2020-12-31  515.950012  518.450012  506.600006  509.299988  509.299988   \n",
       "2021-01-01  510.600006  516.250000  508.250000  515.099976  515.099976   \n",
       "\n",
       "               Volume  Target  \n",
       "Date                           \n",
       "2002-02-20  2351049.0       1  \n",
       "2002-02-21  1240948.0       1  \n",
       "2002-02-22   908020.0       0  \n",
       "2002-02-25   395880.0       1  \n",
       "2002-02-26   595730.0       1  \n",
       "...               ...     ...  \n",
       "2020-12-28   354822.0       0  \n",
       "2020-12-29   356338.0       0  \n",
       "2020-12-30   453614.0       0  \n",
       "2020-12-31   367218.0       1  \n",
       "2021-01-01   263094.0       0  \n",
       "\n",
       "[4703 rows x 7 columns]"
      ]
     },
     "execution_count": 39,
     "metadata": {},
     "output_type": "execute_result"
    }
   ],
   "source": [
    "# Changes The Date column as index columns\n",
    "df.index = pd.to_datetime(df['Date'])\n",
    "df\n",
    "\n",
    "# drop The original date column\n",
    "df = df.drop(['Date'], axis='columns')\n",
    "df\n"
   ]
  },
  {
   "cell_type": "code",
   "execution_count": 40,
   "id": "39f45821",
   "metadata": {},
   "outputs": [
    {
     "data": {
      "text/html": [
       "<div>\n",
       "<style scoped>\n",
       "    .dataframe tbody tr th:only-of-type {\n",
       "        vertical-align: middle;\n",
       "    }\n",
       "\n",
       "    .dataframe tbody tr th {\n",
       "        vertical-align: top;\n",
       "    }\n",
       "\n",
       "    .dataframe thead th {\n",
       "        text-align: right;\n",
       "    }\n",
       "</style>\n",
       "<table border=\"1\" class=\"dataframe\">\n",
       "  <thead>\n",
       "    <tr style=\"text-align: right;\">\n",
       "      <th></th>\n",
       "      <th>Open-Close</th>\n",
       "      <th>High-Low</th>\n",
       "    </tr>\n",
       "    <tr>\n",
       "      <th>Date</th>\n",
       "      <th></th>\n",
       "      <th></th>\n",
       "    </tr>\n",
       "  </thead>\n",
       "  <tbody>\n",
       "    <tr>\n",
       "      <th>2002-02-20</th>\n",
       "      <td>-0.734400</td>\n",
       "      <td>1.445900</td>\n",
       "    </tr>\n",
       "    <tr>\n",
       "      <th>2002-02-21</th>\n",
       "      <td>0.022999</td>\n",
       "      <td>0.665501</td>\n",
       "    </tr>\n",
       "    <tr>\n",
       "      <th>2002-02-22</th>\n",
       "      <td>-0.688502</td>\n",
       "      <td>0.941000</td>\n",
       "    </tr>\n",
       "    <tr>\n",
       "      <th>2002-02-25</th>\n",
       "      <td>0.298401</td>\n",
       "      <td>0.413099</td>\n",
       "    </tr>\n",
       "    <tr>\n",
       "      <th>2002-02-26</th>\n",
       "      <td>-0.252401</td>\n",
       "      <td>0.665600</td>\n",
       "    </tr>\n",
       "  </tbody>\n",
       "</table>\n",
       "</div>"
      ],
      "text/plain": [
       "            Open-Close  High-Low\n",
       "Date                            \n",
       "2002-02-20   -0.734400  1.445900\n",
       "2002-02-21    0.022999  0.665501\n",
       "2002-02-22   -0.688502  0.941000\n",
       "2002-02-25    0.298401  0.413099\n",
       "2002-02-26   -0.252401  0.665600"
      ]
     },
     "execution_count": 40,
     "metadata": {},
     "output_type": "execute_result"
    }
   ],
   "source": [
    "# Create predictor variables\n",
    "df['Open-Close'] = df.Open - df.Close\n",
    "df['High-Low'] = df.High - df.Low\n",
    "\n",
    "# Store all predictor variables in a variable X\n",
    "X = df[['Open-Close', 'High-Low']]\n",
    "X.head()\n"
   ]
  },
  {
   "cell_type": "code",
   "execution_count": 41,
   "id": "5f256ea2",
   "metadata": {},
   "outputs": [
    {
     "data": {
      "text/plain": [
       "array([1, 1, 0, ..., 0, 1, 0])"
      ]
     },
     "execution_count": 41,
     "metadata": {},
     "output_type": "execute_result"
    }
   ],
   "source": [
    "# Target variables this conforms that if it is 0 then it is no position and if it is 1 it iws like we can buy the stocks\n",
    "# it may increase in the feture \n",
    "\n",
    "\n",
    "y = np.where(df['Close'].shift(-1) > df['Close'], 1, 0)\n",
    "y"
   ]
  },
  {
   "cell_type": "code",
   "execution_count": 42,
   "id": "fc282a80",
   "metadata": {},
   "outputs": [],
   "source": [
    "split_percentage = 0.8\n",
    "split = int(split_percentage*len(df))\n",
    "\n",
    "# Train data set\n",
    "X_train = X[:split]\n",
    "y_train = y[:split]\n",
    "\n",
    "# Test data set\n",
    "X_test = X[split:]\n",
    "y_test = y[split:]\n"
   ]
  },
  {
   "cell_type": "code",
   "execution_count": 43,
   "id": "e3bb6b84",
   "metadata": {},
   "outputs": [
    {
     "name": "stdout",
     "output_type": "stream",
     "text": [
      "Model accuracy score with default hyperparameters: 0.5089\n"
     ]
    }
   ],
   "source": [
    "# Import necessary libraries\n",
    "from sklearn.model_selection import train_test_split\n",
    "from sklearn.linear_model import LogisticRegression\n",
    "from sklearn.metrics import accuracy_score\n",
    "\n",
    "# Assuming X and y are your feature matrix and target variable, respectively\n",
    "\n",
    "# Split the data into training and testing sets\n",
    "X_train, X_test, y_train, y_test = train_test_split(X, y, test_size=0.3, random_state=42)\n",
    "\n",
    "# Create a Logistic Regression model\n",
    "logreg = LogisticRegression()\n",
    "\n",
    "# Train the model on the training set\n",
    "logreg.fit(X_train, y_train)\n",
    "\n",
    "# Make predictions on the testing set\n",
    "y_pred = logreg.predict(X_test)\n",
    "\n",
    "# Evaluate the model accuracy\n",
    "accuracy = accuracy_score(y_test, y_pred)\n",
    "print('Model accuracy score with default hyperparameters: {0:0.4f}'.format(accuracy))\n"
   ]
  },
  {
   "cell_type": "code",
   "execution_count": 44,
   "id": "59b114d2",
   "metadata": {},
   "outputs": [
    {
     "name": "stdout",
     "output_type": "stream",
     "text": [
      "Model accuracy score with default hyperparameters: 0.5053\n"
     ]
    }
   ],
   "source": [
    "#KNN\n",
    "from sklearn.neighbors import KNeighborsClassifier# Create KNN classifier\n",
    "knn = KNeighborsClassifier(n_neighbors = 1000)# Fit the classifier to the data\n",
    "knn.fit(X_train,y_train)\n",
    "y_pred=knn.predict(X_test)\n",
    "\n",
    "\n",
    "# compute and print accuracy score\n",
    "print('Model accuracy score with default hyperparameters: {0:0.4f}'. format(accuracy_score(y_test, y_pred)))"
   ]
  },
  {
   "cell_type": "code",
   "execution_count": 45,
   "id": "23b110fd",
   "metadata": {},
   "outputs": [
    {
     "name": "stdout",
     "output_type": "stream",
     "text": [
      "Model accuracy score with default hyperparameters: 0.5053\n"
     ]
    }
   ],
   "source": [
    "\n",
    "from sklearn.svm import SVC\n",
    "\n",
    "\n",
    "# import metrics to compute accuracy\n",
    "from sklearn.metrics import accuracy_score\n",
    "\n",
    "\n",
    "# instantiate classifier with default hyperparameters\n",
    "svc=SVC(C=1) \n",
    "\n",
    "\n",
    "# fit classifier to training set\n",
    "svc.fit(X_train,y_train)\n",
    "\n",
    "\n",
    "# make predictions on test set\n",
    "y_pred=svc.predict(X_test)\n",
    "\n",
    "\n",
    "# compute and print accuracy score\n",
    "print('Model accuracy score with default hyperparameters: {0:0.4f}'. format(accuracy_score(y_test, y_pred)))\n"
   ]
  },
  {
   "cell_type": "code",
   "execution_count": 46,
   "id": "9bf40b65",
   "metadata": {},
   "outputs": [
    {
     "name": "stdout",
     "output_type": "stream",
     "text": [
      "Model accuracy score with default hyperparameters: 0.5223\n"
     ]
    }
   ],
   "source": [
    "#randomforest\n",
    "import numpy as np\n",
    "import pandas as pd\n",
    "import matplotlib.pyplot as plt\n",
    "import seaborn as sns\n",
    "\n",
    "from sklearn.model_selection import train_test_split\n",
    "from sklearn.ensemble import RandomForestClassifier\n",
    "from sklearn.metrics import accuracy_score, confusion_matrix, classification_report\n",
    "forest = RandomForestClassifier()\n",
    "forest.fit(X_train, y_train)\n",
    "# Make predictions for the test set\n",
    "y_pred = forest.predict(X_test)\n",
    "#accuracy_score(y_test, y_pred_test)\n",
    "print('Model accuracy score with default hyperparameters: {0:0.4f}'. format(accuracy_score(y_test, y_pred)))"
   ]
  },
  {
   "cell_type": "code",
   "execution_count": 47,
   "id": "d4de7047",
   "metadata": {},
   "outputs": [
    {
     "name": "stdout",
     "output_type": "stream",
     "text": [
      "Model accuracy score with default hyperparameters: 0.5039\n"
     ]
    }
   ],
   "source": [
    "#decisionTreeClassifier\n",
    "import pandas as p\n",
    "from sklearn.tree import DecisionTreeClassifier\n",
    "from sklearn.model_selection import train_test_split\n",
    "from sklearn.metrics import accuracy_score\n",
    "\n",
    "clf = DecisionTreeClassifier()\n",
    "clf.fit(X_train, y_train)\n",
    "y_pred = clf.predict(X_test)\n",
    "accuracy = accuracy_score(y_test, y_pred)\n",
    "#print(\"Accuracy: \", accuracy)\n",
    "print('Model accuracy score with default hyperparameters: {0:0.4f}'. format(accuracy_score(y_test, y_pred)))"
   ]
  },
  {
   "cell_type": "code",
   "execution_count": 48,
   "id": "7a8ef82a",
   "metadata": {},
   "outputs": [
    {
     "name": "stdout",
     "output_type": "stream",
     "text": [
      "Model accuracy score : 0.4947\n"
     ]
    }
   ],
   "source": [
    "#Naïve Bayes Classifier Algorithm\n",
    "from sklearn.naive_bayes import GaussianNB  \n",
    "classifier = GaussianNB()  \n",
    "classifier.fit(X_train, y_train) \n",
    "y_pred = classifier.predict(X_test) \n",
    "accuracy = accuracy_score(y_test, y_pred)\n",
    "#print(\"Accuracy: \", accuracy)\n",
    "print('Model accuracy score : {0:0.4f}'. format(accuracy_score(y_test, y_pred)))"
   ]
  },
  {
   "cell_type": "code",
   "execution_count": 51,
   "id": "9f462b77",
   "metadata": {},
   "outputs": [
    {
     "name": "stdout",
     "output_type": "stream",
     "text": [
      "Accuracy of Model: 0.4803\n"
     ]
    }
   ],
   "source": [
    "from xgboost import XGBClassifier\n",
    "from sklearn import metrics\n",
    "\n",
    "#warnings.filterwarnings('ignore')\n",
    "X_train, X_test, y_train, y_test = train_test_split(X, y, test_size = 0.2, random_state = 100)\n",
    "model=XGBClassifier()\n",
    "model.fit(X_train, y_train)\n",
    "y_predict=model.predict(X_test)\n",
    "print('Accuracy of Model: {0:0.4f}'.format(accuracy_score(y_test,y_predict)))"
   ]
  },
  {
   "cell_type": "code",
   "execution_count": 52,
   "id": "0288a9c1",
   "metadata": {},
   "outputs": [
    {
     "name": "stdout",
     "output_type": "stream",
     "text": [
      "Accuracy: 0.9354838709677419\n"
     ]
    },
    {
     "name": "stderr",
     "output_type": "stream",
     "text": [
      "C:\\Users\\bvhar\\anaconda3\\lib\\site-packages\\sklearn\\neural_network\\_multilayer_perceptron.py:691: ConvergenceWarning: Stochastic Optimizer: Maximum iterations (200) reached and the optimization hasn't converged yet.\n",
      "  warnings.warn(\n"
     ]
    }
   ],
   "source": [
    "from sklearn.neural_network import MLPClassifier\n",
    "from sklearn.metrics import accuracy_score, f1_score, precision_score, recall_score\n",
    "from sklearn.model_selection import train_test_split\n",
    "from sklearn.datasets import make_classification\n",
    "\n",
    "#Generate a random classification dataset\n",
    "X, y = make_classification(n_samples=2479, n_features=7, random_state=42)\n",
    "\n",
    "# Split the dataset into training and testing sets\n",
    "X_train, X_test, y_train, y_test = train_test_split(X, y, test_size=0.1, random_state=42)\n",
    "\n",
    "# Create the MLP classifier\n",
    "mlp = MLPClassifier(hidden_layer_sizes=(100, 50), activation='relu', random_state=42)\n",
    "\n",
    "# Train the classifier\n",
    "mlp.fit(X_train, y_train)\n",
    "\n",
    "# Make predictions on the test set\n",
    "y_pred = mlp.predict(X_test)\n",
    "\n",
    "# Calculate the accuracy\n",
    "accuracy = accuracy_score(y_test, y_pred)\n",
    "print(\"Accuracy:\", accuracy)\n",
    "\n"
   ]
  },
  {
   "cell_type": "code",
   "execution_count": 53,
   "id": "bf2d559b",
   "metadata": {},
   "outputs": [],
   "source": [
    "#Creating the Confusion matrix  \n",
    "from sklearn.metrics import confusion_matrix  \n",
    "cm= confusion_matrix(y_test, y_pred) "
   ]
  },
  {
   "cell_type": "code",
   "execution_count": 54,
   "id": "e9e0e1d8",
   "metadata": {},
   "outputs": [
    {
     "name": "stdout",
     "output_type": "stream",
     "text": [
      "Confusion matrix\n",
      "\n",
      " [[116   7]\n",
      " [  9 116]]\n",
      "\n",
      "True Positives(TP) =  116\n",
      "\n",
      "True Negatives(TN) =  116\n",
      "\n",
      "False Positives(FP) =  7\n",
      "\n",
      "False Negatives(FN) =  9\n"
     ]
    }
   ],
   "source": [
    "from sklearn.metrics import confusion_matrix\n",
    "\n",
    "cm = confusion_matrix(y_test, y_pred)\n",
    "\n",
    "print('Confusion matrix\\n\\n', cm)\n",
    "\n",
    "print('\\nTrue Positives(TP) = ', cm[0,0])\n",
    "\n",
    "print('\\nTrue Negatives(TN) = ', cm[1,1])\n",
    "\n",
    "print('\\nFalse Positives(FP) = ', cm[0,1])\n",
    "\n",
    "print('\\nFalse Negatives(FN) = ', cm[1,0])\n"
   ]
  },
  {
   "cell_type": "code",
   "execution_count": 55,
   "id": "7d2b43bc",
   "metadata": {},
   "outputs": [
    {
     "data": {
      "text/plain": [
       "<AxesSubplot:>"
      ]
     },
     "execution_count": 55,
     "metadata": {},
     "output_type": "execute_result"
    },
    {
     "data": {
      "image/png": "[encoded data removed]",
      "text/plain": [
       "<Figure size 432x288 with 2 Axes>"
      ]
     },
     "metadata": {
      "needs_background": "light"
     },
     "output_type": "display_data"
    }
   ],
   "source": [
    "import seaborn as sns\n",
    "cm_matrix = pd.DataFrame(data=cm, columns=['Actual Positive:1', 'Actual Negative:0'], \n",
    "                                 index=['Predict Positive:1', 'Predict Negative:0'])\n",
    "\n",
    "sns.heatmap(cm_matrix, annot=True, fmt='d', cmap='YlGnBu')"
   ]
  },
  {
   "cell_type": "code",
   "execution_count": 56,
   "id": "6ee61ab3",
   "metadata": {},
   "outputs": [
    {
     "name": "stdout",
     "output_type": "stream",
     "text": [
      "              precision    recall  f1-score   support\n",
      "\n",
      "           0       0.93      0.94      0.94       123\n",
      "           1       0.94      0.93      0.94       125\n",
      "\n",
      "    accuracy                           0.94       248\n",
      "   macro avg       0.94      0.94      0.94       248\n",
      "weighted avg       0.94      0.94      0.94       248\n",
      "\n"
     ]
    }
   ],
   "source": [
    "from sklearn.metrics import classification_report\n",
    "\n",
    "print(classification_report(y_test, y_pred))\n"
   ]
  },
  {
   "cell_type": "code",
   "execution_count": null,
   "id": "346d3351",
   "metadata": {},
   "outputs": [],
   "source": []
  }
 ],
 "metadata": {
  "kernelspec": {
   "display_name": "Python 3 (ipykernel)",
   "language": "python",
   "name": "python3"
  },
  "language_info": {
   "codemirror_mode": {
    "name": "ipython",
    "version": 3
   },
   "file_extension": ".py",
   "mimetype": "text/x-python",
   "name": "python",
   "nbconvert_exporter": "python",
   "pygments_lexer": "ipython3",
   "version": "3.9.12"
  }
 },
 "nbformat": 4,
 "nbformat_minor": 5
}
