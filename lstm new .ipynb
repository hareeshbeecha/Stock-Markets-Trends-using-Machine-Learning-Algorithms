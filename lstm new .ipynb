{
 "cells": [
  {
   "cell_type": "code",
   "execution_count": 1,
   "id": "713d543e",
   "metadata": {},
   "outputs": [],
   "source": [
    "import numpy as np\n",
    "import pandas as pd\n",
    "import matplotlib.pyplot as plt\n",
    "from sklearn.preprocessing import StandardScaler\n",
    "from keras.models import Sequential\n",
    "from keras.layers import Dense, LSTM, Dropout\n",
    "from sklearn.metrics import mean_squared_error, r2_score"
   ]
  },
  {
   "cell_type": "code",
   "execution_count": 2,
   "id": "e391cb94",
   "metadata": {},
   "outputs": [
    {
     "data": {
      "text/html": [
       "<div>\n",
       "<style scoped>\n",
       "    .dataframe tbody tr th:only-of-type {\n",
       "        vertical-align: middle;\n",
       "    }\n",
       "\n",
       "    .dataframe tbody tr th {\n",
       "        vertical-align: top;\n",
       "    }\n",
       "\n",
       "    .dataframe thead th {\n",
       "        text-align: right;\n",
       "    }\n",
       "</style>\n",
       "<table border=\"1\" class=\"dataframe\">\n",
       "  <thead>\n",
       "    <tr style=\"text-align: right;\">\n",
       "      <th></th>\n",
       "      <th>Date</th>\n",
       "      <th>Open</th>\n",
       "      <th>High</th>\n",
       "      <th>Low</th>\n",
       "      <th>Close</th>\n",
       "      <th>Adj Close</th>\n",
       "      <th>Volume</th>\n",
       "    </tr>\n",
       "  </thead>\n",
       "  <tbody>\n",
       "    <tr>\n",
       "      <th>0</th>\n",
       "      <td>2001-07-23</td>\n",
       "      <td>101.051628</td>\n",
       "      <td>102.246651</td>\n",
       "      <td>100.669212</td>\n",
       "      <td>101.195030</td>\n",
       "      <td>60.314636</td>\n",
       "      <td>6606222</td>\n",
       "    </tr>\n",
       "    <tr>\n",
       "      <th>1</th>\n",
       "      <td>2001-07-24</td>\n",
       "      <td>100.239006</td>\n",
       "      <td>101.481834</td>\n",
       "      <td>99.225624</td>\n",
       "      <td>99.913956</td>\n",
       "      <td>59.551090</td>\n",
       "      <td>7635591</td>\n",
       "    </tr>\n",
       "    <tr>\n",
       "      <th>2</th>\n",
       "      <td>2001-07-25</td>\n",
       "      <td>99.904396</td>\n",
       "      <td>101.051628</td>\n",
       "      <td>98.212234</td>\n",
       "      <td>100.277245</td>\n",
       "      <td>59.767632</td>\n",
       "      <td>6534990</td>\n",
       "    </tr>\n",
       "    <tr>\n",
       "      <th>3</th>\n",
       "      <td>2001-07-26</td>\n",
       "      <td>100.143402</td>\n",
       "      <td>101.338432</td>\n",
       "      <td>98.403442</td>\n",
       "      <td>101.338432</td>\n",
       "      <td>60.400089</td>\n",
       "      <td>8816420</td>\n",
       "    </tr>\n",
       "    <tr>\n",
       "      <th>4</th>\n",
       "      <td>2001-07-27</td>\n",
       "      <td>100.143402</td>\n",
       "      <td>101.290634</td>\n",
       "      <td>99.531548</td>\n",
       "      <td>100.095604</td>\n",
       "      <td>59.659351</td>\n",
       "      <td>4546439</td>\n",
       "    </tr>\n",
       "  </tbody>\n",
       "</table>\n",
       "</div>"
      ],
      "text/plain": [
       "         Date        Open        High         Low       Close  Adj Close  \\\n",
       "0  2001-07-23  101.051628  102.246651  100.669212  101.195030  60.314636   \n",
       "1  2001-07-24  100.239006  101.481834   99.225624   99.913956  59.551090   \n",
       "2  2001-07-25   99.904396  101.051628   98.212234  100.277245  59.767632   \n",
       "3  2001-07-26  100.143402  101.338432   98.403442  101.338432  60.400089   \n",
       "4  2001-07-27  100.143402  101.290634   99.531548  100.095604  59.659351   \n",
       "\n",
       "    Volume  \n",
       "0  6606222  \n",
       "1  7635591  \n",
       "2  6534990  \n",
       "3  8816420  \n",
       "4  4546439  "
      ]
     },
     "execution_count": 2,
     "metadata": {},
     "output_type": "execute_result"
    }
   ],
   "source": [
    "df = pd.read_csv('IBM.csv')\n",
    "df.head()"
   ]
  },
  {
   "cell_type": "code",
   "execution_count": 3,
   "id": "ec2aa3b2",
   "metadata": {},
   "outputs": [
    {
     "data": {
      "text/plain": [
       "(5282, 7)"
      ]
     },
     "execution_count": 3,
     "metadata": {},
     "output_type": "execute_result"
    }
   ],
   "source": [
    "df.shape"
   ]
  },
  {
   "cell_type": "code",
   "execution_count": 4,
   "id": "482173a1",
   "metadata": {},
   "outputs": [],
   "source": [
    "df.set_index('Date',inplace=True)"
   ]
  },
  {
   "cell_type": "code",
   "execution_count": 5,
   "id": "9d2f0c4d",
   "metadata": {},
   "outputs": [],
   "source": [
    "training_set = df.loc['2001-01-01':'2021-12-31']['Close'].to_numpy()\n",
    "test_set = df.loc['2022-01-01':'2022-07-20']['Close'].to_numpy()"
   ]
  },
  {
   "cell_type": "code",
   "execution_count": 6,
   "id": "6fccf5b8",
   "metadata": {},
   "outputs": [],
   "source": [
    "scaler = StandardScaler()\n",
    "training_set = scaler.fit_transform(training_set.reshape(-1,1))"
   ]
  },
  {
   "cell_type": "code",
   "execution_count": 7,
   "id": "879c162d",
   "metadata": {},
   "outputs": [],
   "source": [
    "X_train = []\n",
    "y_train = []\n",
    "\n",
    "for i in range(120,5145):\n",
    "    X_train.append(training_set[i-120:i,0])\n",
    "    y_train.append(training_set[i,0])\n",
    "\n",
    "X_train, y_train = np.array(X_train), np.array(y_train)"
   ]
  },
  {
   "cell_type": "code",
   "execution_count": 8,
   "id": "19bfd774",
   "metadata": {},
   "outputs": [],
   "source": [
    "X_train = np.reshape(X_train,(X_train.shape[0],X_train.shape[1],1)) # no. of stock prices, no. of timeseries steps, no. of predictors"
   ]
  },
  {
   "cell_type": "code",
   "execution_count": 9,
   "id": "e08a6da7",
   "metadata": {},
   "outputs": [],
   "source": [
    "regressor = Sequential()"
   ]
  },
  {
   "cell_type": "code",
   "execution_count": 10,
   "id": "4a7bc11a",
   "metadata": {},
   "outputs": [],
   "source": [
    "regressor.add(LSTM(units=100,return_sequences=True,input_shape=(X_train.shape[1],1)))"
   ]
  },
  {
   "cell_type": "code",
   "execution_count": 11,
   "id": "04dbdf42",
   "metadata": {},
   "outputs": [],
   "source": [
    "regressor.add(Dropout(0.2))"
   ]
  },
  {
   "cell_type": "code",
   "execution_count": 12,
   "id": "20017090",
   "metadata": {},
   "outputs": [
    {
     "name": "stdout",
     "output_type": "stream",
     "text": [
      "Model: \"sequential\"\n",
      "_________________________________________________________________\n",
      " Layer (type)                Output Shape              Param #   \n",
      "=================================================================\n",
      " lstm (LSTM)                 (None, 120, 100)          40800     \n",
      "                                                                 \n",
      " dropout (Dropout)           (None, 120, 100)          0         \n",
      "                                                                 \n",
      " lstm_1 (LSTM)               (None, 120, 100)          80400     \n",
      "                                                                 \n",
      " dropout_1 (Dropout)         (None, 120, 100)          0         \n",
      "                                                                 \n",
      " lstm_2 (LSTM)               (None, 120, 100)          80400     \n",
      "                                                                 \n",
      " dropout_2 (Dropout)         (None, 120, 100)          0         \n",
      "                                                                 \n",
      " lstm_3 (LSTM)               (None, 120, 100)          80400     \n",
      "                                                                 \n",
      " dropout_3 (Dropout)         (None, 120, 100)          0         \n",
      "                                                                 \n",
      " lstm_4 (LSTM)               (None, 100)               80400     \n",
      "                                                                 \n",
      " dropout_4 (Dropout)         (None, 100)               0         \n",
      "                                                                 \n",
      " dense (Dense)               (None, 1)                 101       \n",
      "                                                                 \n",
      "=================================================================\n",
      "Total params: 362,501\n",
      "Trainable params: 362,501\n",
      "Non-trainable params: 0\n",
      "_________________________________________________________________\n"
     ]
    }
   ],
   "source": [
    "regressor.add(LSTM(units=100,return_sequences=True))\n",
    "regressor.add(Dropout(0.2))\n",
    "regressor.add(LSTM(units=100,return_sequences=True))\n",
    "regressor.add(Dropout(0.3))\n",
    "regressor.add(LSTM(units=100,return_sequences=True))\n",
    "regressor.add(Dropout(0.2))\n",
    "regressor.add(LSTM(units=100))\n",
    "regressor.add(Dropout(0.2))\n",
    "regressor.add(Dense(units=1))\n",
    "regressor.compile(loss='mean_squared_error',optimizer='adam')\n",
    "regressor.summary()"
   ]
  },
  {
   "cell_type": "code",
   "execution_count": 13,
   "id": "ba95375a",
   "metadata": {},
   "outputs": [
    {
     "name": "stdout",
     "output_type": "stream",
     "text": [
      "Epoch 1/10\n",
      "158/158 [==============================] - 51s 248ms/step - loss: 0.0627\n",
      "Epoch 2/10\n",
      "158/158 [==============================] - 40s 252ms/step - loss: 0.0289\n",
      "Epoch 3/10\n",
      "158/158 [==============================] - 40s 253ms/step - loss: 0.0233\n",
      "Epoch 4/10\n",
      "158/158 [==============================] - 40s 252ms/step - loss: 0.0218\n",
      "Epoch 5/10\n",
      "158/158 [==============================] - 40s 255ms/step - loss: 0.0191\n",
      "Epoch 6/10\n",
      "158/158 [==============================] - 40s 255ms/step - loss: 0.0167\n",
      "Epoch 7/10\n",
      "158/158 [==============================] - 41s 259ms/step - loss: 0.0155\n",
      "Epoch 8/10\n",
      "158/158 [==============================] - 40s 255ms/step - loss: 0.0148\n",
      "Epoch 9/10\n",
      "158/158 [==============================] - 40s 255ms/step - loss: 0.0139\n",
      "Epoch 10/10\n",
      "158/158 [==============================] - 41s 259ms/step - loss: 0.0128\n"
     ]
    },
    {
     "data": {
      "text/plain": [
       "<keras.callbacks.History at 0x23c3c68fa90>"
      ]
     },
     "execution_count": 13,
     "metadata": {},
     "output_type": "execute_result"
    }
   ],
   "source": [
    "regressor.fit(X_train,y_train,batch_size=32,epochs=10)"
   ]
  },
  {
   "cell_type": "code",
   "execution_count": 14,
   "id": "add6b101",
   "metadata": {},
   "outputs": [
    {
     "data": {
      "text/plain": [
       "257"
      ]
     },
     "execution_count": 14,
     "metadata": {},
     "output_type": "execute_result"
    }
   ],
   "source": [
    "inputs = df[len(df)-len(test_set)-120:]['Close'].to_numpy()\n",
    "inputs_scaled = scaler.transform(inputs.reshape(-1,1))\n",
    "len(inputs_scaled)"
   ]
  },
  {
   "cell_type": "code",
   "execution_count": 15,
   "id": "80e21ff8",
   "metadata": {},
   "outputs": [
    {
     "name": "stdout",
     "output_type": "stream",
     "text": [
      "5/5 [==============================] - 2s 64ms/step\n"
     ]
    }
   ],
   "source": [
    "X_test = []\n",
    "\n",
    "for i in range(120,257):\n",
    "    X_test.append(inputs_scaled[i-120:i,0])\n",
    "\n",
    "X_test = np.array(X_test)\n",
    "X_test = np.reshape(X_test,(X_test.shape[0],X_test.shape[1],1))\n",
    "predicted_stock_prices = regressor.predict(X_test)"
   ]
  },
  {
   "cell_type": "code",
   "execution_count": 16,
   "id": "c756cc32",
   "metadata": {},
   "outputs": [
    {
     "data": {
      "image/png": "[encoded data removed]",
      "text/plain": [
       "<Figure size 1200x800 with 1 Axes>"
      ]
     },
     "metadata": {},
     "output_type": "display_data"
    }
   ],
   "source": [
    "real_stock_prices = scaler.transform(test_set.reshape(-1,1))\n",
    "plt.figure(figsize=(12,8))\n",
    "plt.plot(real_stock_prices,color='purple',label='Original IBM Closing Stock Price')\n",
    "plt.plot(predicted_stock_prices,color='blue',label='Predicted IBM Closing Stock Price')\n",
    "plt.title('IBM Closing Stock Price Prediction for 2022')\n",
    "plt.xlabel('Time')\n",
    "plt.ylabel('IBM Stock Price')\n",
    "plt.legend();"
   ]
  },
  {
   "cell_type": "code",
   "execution_count": 17,
   "id": "c5a45aaf",
   "metadata": {},
   "outputs": [
    {
     "name": "stdout",
     "output_type": "stream",
     "text": [
      "RMSE: 0.09670042468702626\n",
      "R2 Score: 0.5865752846194394\n"
     ]
    }
   ],
   "source": [
    "print(\"RMSE:\",np.sqrt(mean_squared_error(real_stock_prices,predicted_stock_prices)))\n",
    "print(\"R2 Score:\",r2_score(real_stock_prices,predicted_stock_prices))"
   ]
  },
  {
   "cell_type": "code",
   "execution_count": 20,
   "id": "4439e6b8",
   "metadata": {},
   "outputs": [
    {
     "ename": "NameError",
     "evalue": "name 'Y_test' is not defined",
     "output_type": "error",
     "traceback": [
      "\u001b[1;31m---------------------------------------------------------------------------\u001b[0m",
      "\u001b[1;31mNameError\u001b[0m                                 Traceback (most recent call last)",
      "Cell \u001b[1;32mIn[20], line 3\u001b[0m\n\u001b[0;32m      1\u001b[0m \u001b[38;5;28;01mfrom\u001b[39;00m \u001b[38;5;21;01msklearn\u001b[39;00m\u001b[38;5;21;01m.\u001b[39;00m\u001b[38;5;21;01mmetrics\u001b[39;00m \u001b[38;5;28;01mimport\u001b[39;00m classification_report\n\u001b[1;32m----> 3\u001b[0m \u001b[38;5;28mprint\u001b[39m(classification_report(\u001b[43mY_test\u001b[49m, Y_pred))\n",
      "\u001b[1;31mNameError\u001b[0m: name 'Y_test' is not defined"
     ]
    }
   ],
   "source": [
    "from sklearn.metrics import classification_report\n",
    "\n",
    "print(classification_report(Y_test, Y_pred))"
   ]
  },
  {
   "cell_type": "code",
   "execution_count": 22,
   "id": "6114c430",
   "metadata": {},
   "outputs": [
    {
     "name": "stdout",
     "output_type": "stream",
     "text": [
      "1/1 [==============================] - 0s 423ms/step\n",
      "1/1 [==============================] - 0s 450ms/step\n",
      "1/1 [==============================] - 0s 423ms/step\n",
      "WARNING:tensorflow:5 out of the last 9 calls to <function Model.make_predict_function.<locals>.predict_function at 0x0000023C573B83A0> triggered tf.function retracing. Tracing is expensive and the excessive number of tracings could be due to (1) creating @tf.function repeatedly in a loop, (2) passing tensors with different shapes, (3) passing Python objects instead of tensors. For (1), please define your @tf.function outside of the loop. For (2), @tf.function has reduce_retracing=True option that can avoid unnecessary retracing. For (3), please refer to https://www.tensorflow.org/guide/function#controlling_retracing and https://www.tensorflow.org/api_docs/python/tf/function for  more details.\n",
      "1/1 [==============================] - 0s 420ms/step\n",
      "WARNING:tensorflow:6 out of the last 10 calls to <function Model.make_predict_function.<locals>.predict_function at 0x0000023C3B013D30> triggered tf.function retracing. Tracing is expensive and the excessive number of tracings could be due to (1) creating @tf.function repeatedly in a loop, (2) passing tensors with different shapes, (3) passing Python objects instead of tensors. For (1), please define your @tf.function outside of the loop. For (2), @tf.function has reduce_retracing=True option that can avoid unnecessary retracing. For (3), please refer to https://www.tensorflow.org/guide/function#controlling_retracing and https://www.tensorflow.org/api_docs/python/tf/function for  more details.\n",
      "1/1 [==============================] - 0s 461ms/step\n",
      "Average F1 Score: 0.5929992146783751\n"
     ]
    }
   ],
   "source": [
    "import numpy as np\n",
    "from sklearn.model_selection import KFold\n",
    "from sklearn.metrics import f1_score\n",
    "from tensorflow.keras.models import Sequential\n",
    "from tensorflow.keras.layers import LSTM, Dense\n",
    "\n",
    "X = np.random.rand(100, 10, 5)   #input features\n",
    "y = np.random.randint(2, size=(100, 1))  #  labels (binary)\n",
    "\n",
    "# Define the LSTM model\n",
    "def create_lstm_model():\n",
    "    model = Sequential()\n",
    "    model.add(LSTM(128, input_shape=(X.shape[1], X.shape[2])))\n",
    "    model.add(Dense(1, activation='sigmoid'))\n",
    "    model.compile(loss='binary_crossentropy', optimizer='adam', metrics=['accuracy'])\n",
    "    return model\n",
    "\n",
    "# Initialize variables for cross-validation\n",
    "n_splits = 5  # Number of folds for cross-validation\n",
    "f1_scores = []\n",
    "\n",
    "# Perform cross-validation\n",
    "kf = KFold(n_splits=n_splits, shuffle=True)\n",
    "for train_index, test_index in kf.split(X):\n",
    "    # Split data into training and test sets for cross-validation fold\n",
    "    X_train, X_test = X[train_index], X[test_index]\n",
    "    y_train, y_test = y[train_index], y[test_index]\n",
    "    \n",
    "    # Create and train the LSTM model\n",
    "    model = create_lstm_model()\n",
    "    model.fit(X_train, y_train, epochs=10, batch_size=32, verbose=0)\n",
    "    \n",
    "    # Predict probabilities on the test set\n",
    "    y_pred_proba = model.predict(X_test)\n",
    "    \n",
    "    # Convert probabilities to binary predictions\n",
    "    y_pred = (y_pred_proba > 0.5).astype(int)\n",
    "    \n",
    "    # Calculate the F1 score and append it to the list\n",
    "    f1 = f1_score(y_test, y_pred)\n",
    "    f1_scores.append(f1)\n",
    "\n",
    "# Calculate the average F1 score\n",
    "avg_f1_score = np.mean(f1_scores)\n",
    "print(\"Average F1 Score:\", avg_f1_score)\n"
   ]
  },
  {
   "cell_type": "code",
   "execution_count": 23,
   "id": "1c8ad78b",
   "metadata": {},
   "outputs": [
    {
     "name": "stdout",
     "output_type": "stream",
     "text": [
      "1/1 [==============================] - 0s 427ms/step\n",
      "              precision    recall  f1-score   support\n",
      "\n",
      "           0       0.00      0.00      0.00         3\n",
      "           1       0.85      1.00      0.92        17\n",
      "\n",
      "    accuracy                           0.85        20\n",
      "   macro avg       0.42      0.50      0.46        20\n",
      "weighted avg       0.72      0.85      0.78        20\n",
      "\n"
     ]
    },
    {
     "name": "stderr",
     "output_type": "stream",
     "text": [
      "C:\\Users\\srich\\.conda\\envs\\tf-new\\lib\\site-packages\\sklearn\\metrics\\_classification.py:1469: UndefinedMetricWarning: Precision and F-score are ill-defined and being set to 0.0 in labels with no predicted samples. Use `zero_division` parameter to control this behavior.\n",
      "  _warn_prf(average, modifier, msg_start, len(result))\n",
      "C:\\Users\\srich\\.conda\\envs\\tf-new\\lib\\site-packages\\sklearn\\metrics\\_classification.py:1469: UndefinedMetricWarning: Precision and F-score are ill-defined and being set to 0.0 in labels with no predicted samples. Use `zero_division` parameter to control this behavior.\n",
      "  _warn_prf(average, modifier, msg_start, len(result))\n",
      "C:\\Users\\srich\\.conda\\envs\\tf-new\\lib\\site-packages\\sklearn\\metrics\\_classification.py:1469: UndefinedMetricWarning: Precision and F-score are ill-defined and being set to 0.0 in labels with no predicted samples. Use `zero_division` parameter to control this behavior.\n",
      "  _warn_prf(average, modifier, msg_start, len(result))\n",
      "C:\\Users\\srich\\.conda\\envs\\tf-new\\lib\\site-packages\\sklearn\\metrics\\_classification.py:1469: UndefinedMetricWarning: Precision and F-score are ill-defined and being set to 0.0 in labels with no predicted samples. Use `zero_division` parameter to control this behavior.\n",
      "  _warn_prf(average, modifier, msg_start, len(result))\n",
      "C:\\Users\\srich\\.conda\\envs\\tf-new\\lib\\site-packages\\sklearn\\metrics\\_classification.py:1469: UndefinedMetricWarning: Precision and F-score are ill-defined and being set to 0.0 in labels with no predicted samples. Use `zero_division` parameter to control this behavior.\n",
      "  _warn_prf(average, modifier, msg_start, len(result))\n",
      "C:\\Users\\srich\\.conda\\envs\\tf-new\\lib\\site-packages\\sklearn\\metrics\\_classification.py:1469: UndefinedMetricWarning: Precision and F-score are ill-defined and being set to 0.0 in labels with no predicted samples. Use `zero_division` parameter to control this behavior.\n",
      "  _warn_prf(average, modifier, msg_start, len(result))\n"
     ]
    },
    {
     "name": "stdout",
     "output_type": "stream",
     "text": [
      "1/1 [==============================] - 0s 420ms/step\n",
      "              precision    recall  f1-score   support\n",
      "\n",
      "           0       0.00      0.00      0.00         8\n",
      "           1       0.60      1.00      0.75        12\n",
      "\n",
      "    accuracy                           0.60        20\n",
      "   macro avg       0.30      0.50      0.37        20\n",
      "weighted avg       0.36      0.60      0.45        20\n",
      "\n"
     ]
    },
    {
     "name": "stderr",
     "output_type": "stream",
     "text": [
      "C:\\Users\\srich\\.conda\\envs\\tf-new\\lib\\site-packages\\sklearn\\metrics\\_classification.py:1469: UndefinedMetricWarning: Precision and F-score are ill-defined and being set to 0.0 in labels with no predicted samples. Use `zero_division` parameter to control this behavior.\n",
      "  _warn_prf(average, modifier, msg_start, len(result))\n",
      "C:\\Users\\srich\\.conda\\envs\\tf-new\\lib\\site-packages\\sklearn\\metrics\\_classification.py:1469: UndefinedMetricWarning: Precision and F-score are ill-defined and being set to 0.0 in labels with no predicted samples. Use `zero_division` parameter to control this behavior.\n",
      "  _warn_prf(average, modifier, msg_start, len(result))\n",
      "C:\\Users\\srich\\.conda\\envs\\tf-new\\lib\\site-packages\\sklearn\\metrics\\_classification.py:1469: UndefinedMetricWarning: Precision and F-score are ill-defined and being set to 0.0 in labels with no predicted samples. Use `zero_division` parameter to control this behavior.\n",
      "  _warn_prf(average, modifier, msg_start, len(result))\n",
      "C:\\Users\\srich\\.conda\\envs\\tf-new\\lib\\site-packages\\sklearn\\metrics\\_classification.py:1469: UndefinedMetricWarning: Precision and F-score are ill-defined and being set to 0.0 in labels with no predicted samples. Use `zero_division` parameter to control this behavior.\n",
      "  _warn_prf(average, modifier, msg_start, len(result))\n",
      "C:\\Users\\srich\\.conda\\envs\\tf-new\\lib\\site-packages\\sklearn\\metrics\\_classification.py:1469: UndefinedMetricWarning: Precision and F-score are ill-defined and being set to 0.0 in labels with no predicted samples. Use `zero_division` parameter to control this behavior.\n",
      "  _warn_prf(average, modifier, msg_start, len(result))\n",
      "C:\\Users\\srich\\.conda\\envs\\tf-new\\lib\\site-packages\\sklearn\\metrics\\_classification.py:1469: UndefinedMetricWarning: Precision and F-score are ill-defined and being set to 0.0 in labels with no predicted samples. Use `zero_division` parameter to control this behavior.\n",
      "  _warn_prf(average, modifier, msg_start, len(result))\n"
     ]
    },
    {
     "name": "stdout",
     "output_type": "stream",
     "text": [
      "1/1 [==============================] - 0s 452ms/step\n",
      "              precision    recall  f1-score   support\n",
      "\n",
      "           0       0.00      0.00      0.00        12\n",
      "           1       0.40      1.00      0.57         8\n",
      "\n",
      "    accuracy                           0.40        20\n",
      "   macro avg       0.20      0.50      0.29        20\n",
      "weighted avg       0.16      0.40      0.23        20\n",
      "\n"
     ]
    },
    {
     "name": "stderr",
     "output_type": "stream",
     "text": [
      "C:\\Users\\srich\\.conda\\envs\\tf-new\\lib\\site-packages\\sklearn\\metrics\\_classification.py:1469: UndefinedMetricWarning: Precision and F-score are ill-defined and being set to 0.0 in labels with no predicted samples. Use `zero_division` parameter to control this behavior.\n",
      "  _warn_prf(average, modifier, msg_start, len(result))\n",
      "C:\\Users\\srich\\.conda\\envs\\tf-new\\lib\\site-packages\\sklearn\\metrics\\_classification.py:1469: UndefinedMetricWarning: Precision and F-score are ill-defined and being set to 0.0 in labels with no predicted samples. Use `zero_division` parameter to control this behavior.\n",
      "  _warn_prf(average, modifier, msg_start, len(result))\n",
      "C:\\Users\\srich\\.conda\\envs\\tf-new\\lib\\site-packages\\sklearn\\metrics\\_classification.py:1469: UndefinedMetricWarning: Precision and F-score are ill-defined and being set to 0.0 in labels with no predicted samples. Use `zero_division` parameter to control this behavior.\n",
      "  _warn_prf(average, modifier, msg_start, len(result))\n",
      "C:\\Users\\srich\\.conda\\envs\\tf-new\\lib\\site-packages\\sklearn\\metrics\\_classification.py:1469: UndefinedMetricWarning: Precision and F-score are ill-defined and being set to 0.0 in labels with no predicted samples. Use `zero_division` parameter to control this behavior.\n",
      "  _warn_prf(average, modifier, msg_start, len(result))\n",
      "C:\\Users\\srich\\.conda\\envs\\tf-new\\lib\\site-packages\\sklearn\\metrics\\_classification.py:1469: UndefinedMetricWarning: Precision and F-score are ill-defined and being set to 0.0 in labels with no predicted samples. Use `zero_division` parameter to control this behavior.\n",
      "  _warn_prf(average, modifier, msg_start, len(result))\n",
      "C:\\Users\\srich\\.conda\\envs\\tf-new\\lib\\site-packages\\sklearn\\metrics\\_classification.py:1469: UndefinedMetricWarning: Precision and F-score are ill-defined and being set to 0.0 in labels with no predicted samples. Use `zero_division` parameter to control this behavior.\n",
      "  _warn_prf(average, modifier, msg_start, len(result))\n"
     ]
    },
    {
     "name": "stdout",
     "output_type": "stream",
     "text": [
      "1/1 [==============================] - 0s 497ms/step\n",
      "              precision    recall  f1-score   support\n",
      "\n",
      "           0       0.00      0.00      0.00         6\n",
      "           1       0.70      1.00      0.82        14\n",
      "\n",
      "    accuracy                           0.70        20\n",
      "   macro avg       0.35      0.50      0.41        20\n",
      "weighted avg       0.49      0.70      0.58        20\n",
      "\n"
     ]
    },
    {
     "name": "stderr",
     "output_type": "stream",
     "text": [
      "C:\\Users\\srich\\.conda\\envs\\tf-new\\lib\\site-packages\\sklearn\\metrics\\_classification.py:1469: UndefinedMetricWarning: Precision and F-score are ill-defined and being set to 0.0 in labels with no predicted samples. Use `zero_division` parameter to control this behavior.\n",
      "  _warn_prf(average, modifier, msg_start, len(result))\n",
      "C:\\Users\\srich\\.conda\\envs\\tf-new\\lib\\site-packages\\sklearn\\metrics\\_classification.py:1469: UndefinedMetricWarning: Precision and F-score are ill-defined and being set to 0.0 in labels with no predicted samples. Use `zero_division` parameter to control this behavior.\n",
      "  _warn_prf(average, modifier, msg_start, len(result))\n",
      "C:\\Users\\srich\\.conda\\envs\\tf-new\\lib\\site-packages\\sklearn\\metrics\\_classification.py:1469: UndefinedMetricWarning: Precision and F-score are ill-defined and being set to 0.0 in labels with no predicted samples. Use `zero_division` parameter to control this behavior.\n",
      "  _warn_prf(average, modifier, msg_start, len(result))\n",
      "C:\\Users\\srich\\.conda\\envs\\tf-new\\lib\\site-packages\\sklearn\\metrics\\_classification.py:1469: UndefinedMetricWarning: Precision and F-score are ill-defined and being set to 0.0 in labels with no predicted samples. Use `zero_division` parameter to control this behavior.\n",
      "  _warn_prf(average, modifier, msg_start, len(result))\n",
      "C:\\Users\\srich\\.conda\\envs\\tf-new\\lib\\site-packages\\sklearn\\metrics\\_classification.py:1469: UndefinedMetricWarning: Precision and F-score are ill-defined and being set to 0.0 in labels with no predicted samples. Use `zero_division` parameter to control this behavior.\n",
      "  _warn_prf(average, modifier, msg_start, len(result))\n",
      "C:\\Users\\srich\\.conda\\envs\\tf-new\\lib\\site-packages\\sklearn\\metrics\\_classification.py:1469: UndefinedMetricWarning: Precision and F-score are ill-defined and being set to 0.0 in labels with no predicted samples. Use `zero_division` parameter to control this behavior.\n",
      "  _warn_prf(average, modifier, msg_start, len(result))\n"
     ]
    },
    {
     "name": "stdout",
     "output_type": "stream",
     "text": [
      "1/1 [==============================] - 0s 430ms/step\n",
      "              precision    recall  f1-score   support\n",
      "\n",
      "           0       0.00      0.00      0.00        10\n",
      "           1       0.50      1.00      0.67        10\n",
      "\n",
      "    accuracy                           0.50        20\n",
      "   macro avg       0.25      0.50      0.33        20\n",
      "weighted avg       0.25      0.50      0.33        20\n",
      "\n",
      "Average Accuracy: 0.61\n",
      "Average Precision: 0.61\n",
      "Average Recall: 1.0\n"
     ]
    },
    {
     "name": "stderr",
     "output_type": "stream",
     "text": [
      "C:\\Users\\srich\\.conda\\envs\\tf-new\\lib\\site-packages\\sklearn\\metrics\\_classification.py:1469: UndefinedMetricWarning: Precision and F-score are ill-defined and being set to 0.0 in labels with no predicted samples. Use `zero_division` parameter to control this behavior.\n",
      "  _warn_prf(average, modifier, msg_start, len(result))\n",
      "C:\\Users\\srich\\.conda\\envs\\tf-new\\lib\\site-packages\\sklearn\\metrics\\_classification.py:1469: UndefinedMetricWarning: Precision and F-score are ill-defined and being set to 0.0 in labels with no predicted samples. Use `zero_division` parameter to control this behavior.\n",
      "  _warn_prf(average, modifier, msg_start, len(result))\n",
      "C:\\Users\\srich\\.conda\\envs\\tf-new\\lib\\site-packages\\sklearn\\metrics\\_classification.py:1469: UndefinedMetricWarning: Precision and F-score are ill-defined and being set to 0.0 in labels with no predicted samples. Use `zero_division` parameter to control this behavior.\n",
      "  _warn_prf(average, modifier, msg_start, len(result))\n",
      "C:\\Users\\srich\\.conda\\envs\\tf-new\\lib\\site-packages\\sklearn\\metrics\\_classification.py:1469: UndefinedMetricWarning: Precision and F-score are ill-defined and being set to 0.0 in labels with no predicted samples. Use `zero_division` parameter to control this behavior.\n",
      "  _warn_prf(average, modifier, msg_start, len(result))\n",
      "C:\\Users\\srich\\.conda\\envs\\tf-new\\lib\\site-packages\\sklearn\\metrics\\_classification.py:1469: UndefinedMetricWarning: Precision and F-score are ill-defined and being set to 0.0 in labels with no predicted samples. Use `zero_division` parameter to control this behavior.\n",
      "  _warn_prf(average, modifier, msg_start, len(result))\n",
      "C:\\Users\\srich\\.conda\\envs\\tf-new\\lib\\site-packages\\sklearn\\metrics\\_classification.py:1469: UndefinedMetricWarning: Precision and F-score are ill-defined and being set to 0.0 in labels with no predicted samples. Use `zero_division` parameter to control this behavior.\n",
      "  _warn_prf(average, modifier, msg_start, len(result))\n"
     ]
    }
   ],
   "source": [
    "import numpy as np\n",
    "from sklearn.model_selection import KFold\n",
    "from sklearn.metrics import classification_report\n",
    "from tensorflow.keras.models import Sequential\n",
    "from tensorflow.keras.layers import LSTM, Dense\n",
    "\n",
    "X = np.random.rand(100, 10, 5)   #input features\n",
    "y = np.random.randint(2, size=(100, 1))  #  labels (binary)\n",
    "\n",
    "# Define the LSTM model\n",
    "def create_lstm_model():\n",
    "    model = Sequential()\n",
    "    model.add(LSTM(128, input_shape=(X.shape[1], X.shape[2])))\n",
    "    model.add(Dense(1, activation='sigmoid'))\n",
    "    model.compile(loss='binary_crossentropy', optimizer='adam', metrics=['accuracy'])\n",
    "    return model\n",
    "\n",
    "# Initialize variables for cross-validation\n",
    "n_splits = 5  # Number of folds for cross-validation\n",
    "accuracy_scores = []\n",
    "precision_scores = []\n",
    "recall_scores = []\n",
    "\n",
    "# Perform cross-validation\n",
    "kf = KFold(n_splits=n_splits, shuffle=True)\n",
    "for train_index, test_index in kf.split(X):\n",
    "    # Split data into training and test sets for cross-validation fold\n",
    "    X_train, X_test = X[train_index], X[test_index]\n",
    "    y_train, y_test = y[train_index], y[test_index]\n",
    "    \n",
    "    # Create and train the LSTM model\n",
    "    model = create_lstm_model()\n",
    "    model.fit(X_train, y_train, epochs=10, batch_size=32, verbose=0)\n",
    "    \n",
    "    # Predict probabilities on the test set\n",
    "    y_pred_proba = model.predict(X_test)\n",
    "    \n",
    "    # Convert probabilities to binary predictions\n",
    "    y_pred = (y_pred_proba > 0.5).astype(int)\n",
    "    \n",
    "    # Calculate and print classification report\n",
    "    report = classification_report(y_test, y_pred)\n",
    "    print(report)\n",
    "    \n",
    "    # Extract accuracy, precision, and recall from the classification report\n",
    "    report_dict = classification_report(y_test, y_pred, output_dict=True)\n",
    "    accuracy_scores.append(report_dict['accuracy'])\n",
    "    precision_scores.append(report_dict['1']['precision'])\n",
    "    recall_scores.append(report_dict['1']['recall'])\n",
    "\n",
    "# Calculate the average scores\n",
    "avg_accuracy = np.mean(accuracy_scores)\n",
    "avg_precision = np.mean(precision_scores)\n",
    "avg_recall = np.mean(recall_scores)\n",
    "\n",
    "print(\"Average Accuracy:\", avg_accuracy)\n",
    "print(\"Average Precision:\", avg_precision)\n",
    "print(\"Average Recall:\", avg_recall)\n"
   ]
  },
  {
   "cell_type": "code",
   "execution_count": 24,
   "id": "44b59efb",
   "metadata": {},
   "outputs": [
    {
     "data": {
      "text/html": [
       "<div>\n",
       "<style scoped>\n",
       "    .dataframe tbody tr th:only-of-type {\n",
       "        vertical-align: middle;\n",
       "    }\n",
       "\n",
       "    .dataframe tbody tr th {\n",
       "        vertical-align: top;\n",
       "    }\n",
       "\n",
       "    .dataframe thead th {\n",
       "        text-align: right;\n",
       "    }\n",
       "</style>\n",
       "<table border=\"1\" class=\"dataframe\">\n",
       "  <thead>\n",
       "    <tr style=\"text-align: right;\">\n",
       "      <th></th>\n",
       "      <th>Open-Close</th>\n",
       "      <th>High-Low</th>\n",
       "    </tr>\n",
       "    <tr>\n",
       "      <th>Date</th>\n",
       "      <th></th>\n",
       "      <th></th>\n",
       "    </tr>\n",
       "  </thead>\n",
       "  <tbody>\n",
       "    <tr>\n",
       "      <th>2001-07-23</th>\n",
       "      <td>-0.143402</td>\n",
       "      <td>1.577439</td>\n",
       "    </tr>\n",
       "    <tr>\n",
       "      <th>2001-07-24</th>\n",
       "      <td>0.325050</td>\n",
       "      <td>2.256210</td>\n",
       "    </tr>\n",
       "    <tr>\n",
       "      <th>2001-07-25</th>\n",
       "      <td>-0.372849</td>\n",
       "      <td>2.839394</td>\n",
       "    </tr>\n",
       "    <tr>\n",
       "      <th>2001-07-26</th>\n",
       "      <td>-1.195030</td>\n",
       "      <td>2.934990</td>\n",
       "    </tr>\n",
       "    <tr>\n",
       "      <th>2001-07-27</th>\n",
       "      <td>0.047798</td>\n",
       "      <td>1.759086</td>\n",
       "    </tr>\n",
       "  </tbody>\n",
       "</table>\n",
       "</div>"
      ],
      "text/plain": [
       "            Open-Close  High-Low\n",
       "Date                            \n",
       "2001-07-23   -0.143402  1.577439\n",
       "2001-07-24    0.325050  2.256210\n",
       "2001-07-25   -0.372849  2.839394\n",
       "2001-07-26   -1.195030  2.934990\n",
       "2001-07-27    0.047798  1.759086"
      ]
     },
     "execution_count": 24,
     "metadata": {},
     "output_type": "execute_result"
    }
   ],
   "source": [
    "# Create predictor variables\n",
    "df['Open-Close'] = df.Open - df.Close\n",
    "df['High-Low'] = df.High - df.Low\n",
    "\n",
    "# Store all predictor variables in a variable X\n",
    "X = df[['Open-Close', 'High-Low']]\n",
    "X.head()"
   ]
  },
  {
   "cell_type": "code",
   "execution_count": 25,
   "id": "adef5aac",
   "metadata": {},
   "outputs": [],
   "source": [
    "split_percentage = 0.8\n",
    "split = int(split_percentage*len(df))\n",
    "\n",
    "# Train data set\n",
    "X_train = X[:split]\n",
    "y_train = y[:split]\n",
    "\n",
    "# Test data set\n",
    "X_test = X[split:]\n",
    "y_test = y[split:]"
   ]
  },
  {
   "cell_type": "code",
   "execution_count": null,
   "id": "5131f0bd",
   "metadata": {},
   "outputs": [],
   "source": []
  },
  {
   "cell_type": "code",
   "execution_count": null,
   "id": "80de4a8b",
   "metadata": {},
   "outputs": [],
   "source": []
  }
 ],
 "metadata": {
  "kernelspec": {
   "display_name": "Python 3 (ipykernel)",
   "language": "python",
   "name": "python3"
  },
  "language_info": {
   "codemirror_mode": {
    "name": "ipython",
    "version": 3
   },
   "file_extension": ".py",
   "mimetype": "text/x-python",
   "name": "python",
   "nbconvert_exporter": "python",
   "pygments_lexer": "ipython3",
   "version": "3.9.17"
  }
 },
 "nbformat": 4,
 "nbformat_minor": 5
}
